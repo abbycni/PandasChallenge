{
 "cells": [
  {
   "cell_type": "markdown",
   "metadata": {},
   "source": [
    "### Note\n",
    "* Instructions have been included for each segment. You do not have to follow them exactly, but they are included to help you think through the steps."
   ]
  },
  {
   "cell_type": "code",
   "execution_count": 16,
   "metadata": {},
   "outputs": [
    {
     "name": "stdout",
     "output_type": "stream",
     "text": [
      "   Purchase ID             SN   Age Gender  Item ID  \\\n",
      "0          0.0        Lisim78  20.0   Male    108.0   \n",
      "1          1.0    Lisovynya38  40.0   Male    143.0   \n",
      "2          2.0     Ithergue48  24.0   Male     92.0   \n",
      "3          3.0  Chamassasya86  24.0   Male    100.0   \n",
      "4          4.0      Iskosia90  23.0   Male    131.0   \n",
      "\n",
      "                                   Item Name  Price  Unnamed: 7  Unnamed: 8  \\\n",
      "0  Extraction, Quickblade Of Trembling Hands   3.53         NaN         NaN   \n",
      "1                          Frenzied Scimitar   1.56         NaN         NaN   \n",
      "2                               Final Critic   4.88         NaN         NaN   \n",
      "3                                Blindscythe   3.27         NaN         NaN   \n",
      "4                                       Fury   1.44         NaN         NaN   \n",
      "\n",
      "   Unnamed: 9 Unnamed: 10  \n",
      "0         NaN         NaN  \n",
      "1         NaN         NaN  \n",
      "2         NaN         NaN  \n",
      "3         NaN         NaN  \n",
      "4         NaN         NaN  \n"
     ]
    },
    {
     "data": {
      "text/plain": [
       "Index(['Purchase ID', 'SN', 'Age', 'Gender', 'Item ID', 'Item Name', 'Price',\n",
       "       'Unnamed: 7', 'Unnamed: 8', 'Unnamed: 9', 'Unnamed: 10'],\n",
       "      dtype='object')"
      ]
     },
     "execution_count": 16,
     "metadata": {},
     "output_type": "execute_result"
    }
   ],
   "source": [
    "# Dependencies and Setup\n",
    "import pandas as pd\n",
    "import numpy\n",
    "\n",
    "# File to Load (Remember to Change These)\n",
    "file_to_load = \"Resources/purchase_data.csv\"\n",
    "\n",
    "# Read Purchasing File and store into Pandas data frame\n",
    "purchase_data = pd.read_csv(file_to_load)\n",
    "\n",
    "df=purchase_data \n",
    "print(df.head())\n",
    "df.columns"
   ]
  },
  {
   "cell_type": "markdown",
   "metadata": {},
   "source": [
    "## Player Count"
   ]
  },
  {
   "cell_type": "markdown",
   "metadata": {},
   "source": [
    "* Display the total number of players\n"
   ]
  },
  {
   "cell_type": "code",
   "execution_count": 17,
   "metadata": {},
   "outputs": [
    {
     "name": "stdout",
     "output_type": "stream",
     "text": [
      "783\n",
      "577\n"
     ]
    }
   ],
   "source": [
    "\n",
    "#total_players- Not unique \n",
    "total_players=len(purchase_data[\"SN\"])\n",
    "print(total_players)\n",
    "#total_playersunique- The unique number of players \n",
    "total_playersunique=len(purchase_data[\"SN\"].unique())\n",
    "print(total_playersunique)\n"
   ]
  },
  {
   "cell_type": "markdown",
   "metadata": {},
   "source": [
    "## Purchasing Analysis (Total)"
   ]
  },
  {
   "cell_type": "markdown",
   "metadata": {},
   "source": [
    "* Run basic calculations to obtain number of unique items, average price, etc.\n",
    "\n",
    "\n",
    "* Create a summary data frame to hold the results\n",
    "\n",
    "\n",
    "* Optional: give the displayed data cleaner formatting\n",
    "\n",
    "\n",
    "* Display the summary data frame\n"
   ]
  },
  {
   "cell_type": "code",
   "execution_count": 18,
   "metadata": {
    "scrolled": true
   },
   "outputs": [
    {
     "data": {
      "text/html": [
       "<div>\n",
       "<style scoped>\n",
       "    .dataframe tbody tr th:only-of-type {\n",
       "        vertical-align: middle;\n",
       "    }\n",
       "\n",
       "    .dataframe tbody tr th {\n",
       "        vertical-align: top;\n",
       "    }\n",
       "\n",
       "    .dataframe thead th {\n",
       "        text-align: right;\n",
       "    }\n",
       "</style>\n",
       "<table border=\"1\" class=\"dataframe\">\n",
       "  <thead>\n",
       "    <tr style=\"text-align: right;\">\n",
       "      <th></th>\n",
       "      <th>Number of unique Items</th>\n",
       "      <th>Average Price</th>\n",
       "      <th>Number of purchases</th>\n",
       "      <th>Total Revenue</th>\n",
       "    </tr>\n",
       "  </thead>\n",
       "  <tbody>\n",
       "    <tr>\n",
       "      <th>0</th>\n",
       "      <td>180</td>\n",
       "      <td>3.050987</td>\n",
       "      <td>780</td>\n",
       "      <td>2379.77</td>\n",
       "    </tr>\n",
       "  </tbody>\n",
       "</table>\n",
       "</div>"
      ],
      "text/plain": [
       "   Number of unique Items  Average Price  Number of purchases  Total Revenue\n",
       "0                     180       3.050987                  780        2379.77"
      ]
     },
     "execution_count": 18,
     "metadata": {},
     "output_type": "execute_result"
    }
   ],
   "source": [
    "unique_items=len(purchase_data[\"Item ID\"].unique())\n",
    "unique_items\n",
    "average_price=(purchase_data[\"Price\"]).mean()\n",
    "average_price \n",
    "Total_Item_count=(purchase_data[\"Purchase ID\"]).count()\n",
    "Total_revenue=(purchase_data)[\"Price\"].sum()\n",
    "\n",
    "Purchase_analysis_df=pd.DataFrame({\"Number of unique Items\":unique_items,\"Average Price\":[average_price], \"Number of purchases\":[Total_Item_count], \"Total Revenue\":[Total_revenue]})\n",
    "\n",
    "Purchase_analysis_df                  \n",
    "              \n",
    "   \n"
   ]
  },
  {
   "cell_type": "markdown",
   "metadata": {},
   "source": [
    "## Gender Demographics"
   ]
  },
  {
   "cell_type": "markdown",
   "metadata": {},
   "source": [
    "* Percentage and Count of Male Players\n",
    "\n",
    "\n",
    "* Percentage and Count of Female Players\n",
    "\n",
    "\n",
    "* Percentage and Count of Other / Non-Disclosed\n",
    "\n",
    "\n"
   ]
  },
  {
   "cell_type": "code",
   "execution_count": 19,
   "metadata": {},
   "outputs": [
    {
     "name": "stdout",
     "output_type": "stream",
     "text": [
      "<pandas.core.groupby.generic.DataFrameGroupBy object at 0x0000023544A50B80>\n"
     ]
    },
    {
     "data": {
      "text/html": [
       "<div>\n",
       "<style scoped>\n",
       "    .dataframe tbody tr th:only-of-type {\n",
       "        vertical-align: middle;\n",
       "    }\n",
       "\n",
       "    .dataframe tbody tr th {\n",
       "        vertical-align: top;\n",
       "    }\n",
       "\n",
       "    .dataframe thead th {\n",
       "        text-align: right;\n",
       "    }\n",
       "</style>\n",
       "<table border=\"1\" class=\"dataframe\">\n",
       "  <thead>\n",
       "    <tr style=\"text-align: right;\">\n",
       "      <th></th>\n",
       "      <th>Total_count</th>\n",
       "      <th>Percentage</th>\n",
       "    </tr>\n",
       "    <tr>\n",
       "      <th>Gender</th>\n",
       "      <th></th>\n",
       "      <th></th>\n",
       "    </tr>\n",
       "  </thead>\n",
       "  <tbody>\n",
       "    <tr>\n",
       "      <th>Female</th>\n",
       "      <td>81</td>\n",
       "      <td>14.038128</td>\n",
       "    </tr>\n",
       "    <tr>\n",
       "      <th>Male</th>\n",
       "      <td>484</td>\n",
       "      <td>83.882149</td>\n",
       "    </tr>\n",
       "    <tr>\n",
       "      <th>Other / Non-Disclosed</th>\n",
       "      <td>11</td>\n",
       "      <td>1.906412</td>\n",
       "    </tr>\n",
       "  </tbody>\n",
       "</table>\n",
       "</div>"
      ],
      "text/plain": [
       "                       Total_count  Percentage\n",
       "Gender                                        \n",
       "Female                          81   14.038128\n",
       "Male                           484   83.882149\n",
       "Other / Non-Disclosed           11    1.906412"
      ]
     },
     "execution_count": 19,
     "metadata": {},
     "output_type": "execute_result"
    }
   ],
   "source": [
    "Gender_Group=(purchase_data).groupby(\"Gender\")\n",
    "print(Gender_Group)\n",
    "\n",
    "Gender_Group[\"SN\"].nunique()\n",
    "\n",
    "\n",
    "pd.DataFrame({\"Total_count\":Gender_Group[\"SN\"].nunique(),\"Percentage\":Gender_Group[\"SN\"].nunique()/total_playersunique *100})\n"
   ]
  },
  {
   "cell_type": "markdown",
   "metadata": {},
   "source": [
    "# ## Purchasing Analysis (Gender)"
   ]
  },
  {
   "cell_type": "markdown",
   "metadata": {},
   "source": [
    "* Run basic calculations to obtain purchase count, avg. purchase price, avg. purchase total per person etc. by gender\n",
    "\n",
    "\n",
    "\n",
    "\n",
    "* Create a summary data frame to hold the results\n",
    "\n",
    "\n",
    "* Optional: give the displayed data cleaner formatting\n",
    "\n",
    "\n",
    "* Display the summary data frame"
   ]
  },
  {
   "cell_type": "code",
   "execution_count": 20,
   "metadata": {},
   "outputs": [
    {
     "data": {
      "text/html": [
       "<div>\n",
       "<style scoped>\n",
       "    .dataframe tbody tr th:only-of-type {\n",
       "        vertical-align: middle;\n",
       "    }\n",
       "\n",
       "    .dataframe tbody tr th {\n",
       "        vertical-align: top;\n",
       "    }\n",
       "\n",
       "    .dataframe thead th {\n",
       "        text-align: right;\n",
       "    }\n",
       "</style>\n",
       "<table border=\"1\" class=\"dataframe\">\n",
       "  <thead>\n",
       "    <tr style=\"text-align: right;\">\n",
       "      <th></th>\n",
       "      <th>Purchase_Count</th>\n",
       "      <th>Average_Purchase_Price</th>\n",
       "      <th>Total Purchase Value</th>\n",
       "      <th>Average Total Purchase per Person</th>\n",
       "    </tr>\n",
       "    <tr>\n",
       "      <th>Gender</th>\n",
       "      <th></th>\n",
       "      <th></th>\n",
       "      <th></th>\n",
       "      <th></th>\n",
       "    </tr>\n",
       "  </thead>\n",
       "  <tbody>\n",
       "    <tr>\n",
       "      <th>Female</th>\n",
       "      <td>113</td>\n",
       "      <td>3.203009</td>\n",
       "      <td>361.94</td>\n",
       "      <td>4.468395</td>\n",
       "    </tr>\n",
       "    <tr>\n",
       "      <th>Male</th>\n",
       "      <td>652</td>\n",
       "      <td>3.017853</td>\n",
       "      <td>1967.64</td>\n",
       "      <td>4.065372</td>\n",
       "    </tr>\n",
       "    <tr>\n",
       "      <th>Other / Non-Disclosed</th>\n",
       "      <td>15</td>\n",
       "      <td>3.346000</td>\n",
       "      <td>50.19</td>\n",
       "      <td>4.562727</td>\n",
       "    </tr>\n",
       "  </tbody>\n",
       "</table>\n",
       "</div>"
      ],
      "text/plain": [
       "                       Purchase_Count  Average_Purchase_Price  \\\n",
       "Gender                                                          \n",
       "Female                            113                3.203009   \n",
       "Male                              652                3.017853   \n",
       "Other / Non-Disclosed              15                3.346000   \n",
       "\n",
       "                       Total Purchase Value  Average Total Purchase per Person  \n",
       "Gender                                                                          \n",
       "Female                               361.94                           4.468395  \n",
       "Male                                1967.64                           4.065372  \n",
       "Other / Non-Disclosed                 50.19                           4.562727  "
      ]
     },
     "execution_count": 20,
     "metadata": {},
     "output_type": "execute_result"
    }
   ],
   "source": [
    "purchase_count=Gender_Group.count()\n",
    "\n",
    "average_purchase_price=Gender_Group[\"Price\"].mean()\n",
    "\n",
    "purchase_total=Gender_Group[\"Price\"].sum()\n",
    "\n",
    "#AverageTotalpurchaseperperson= Gender_Group[\"Price\"].sum()/\"Total_count\":Gender_Group[\"SN\"].nunique()\n",
    "#Purchase_analysis_gender_df=pd.DataFrame({\"Purchase Count\":Gender_Group.[purchase_count],\"Average Purchase Price\":Gender_Group.[average_purchase_price], \"Total Purchase Value\":Gender_Group.[purchase_total]})\n",
    "pd.DataFrame({\"Purchase_Count\":Gender_Group[\"SN\"].count(),\"Average_Purchase_Price\":Gender_Group[\"Price\"].mean(), \"Total Purchase Value\":Gender_Group[\"Price\"].sum(), \"Average Total Purchase per Person\":Gender_Group[\"Price\"].sum()/Gender_Group[\"SN\"].nunique()})\n",
    "\n",
    "#Purchase_analysis_gender_df                      \n",
    "    \n",
    "#Average_price_per_person=({GenderGroup(Gender_Group[\"SN\"].uninque().mean()}[\"Price\"].mean()"
   ]
  },
  {
   "cell_type": "markdown",
   "metadata": {},
   "source": [
    "## Age Demographics"
   ]
  },
  {
   "cell_type": "markdown",
   "metadata": {},
   "source": [
    "* Establish bins for ages\n",
    "\n",
    "\n",
    "* Categorize the existing players using the age bins. Hint: use pd.cut()\n",
    "\n",
    "\n",
    "* Calculate the numbers and percentages by age group\n",
    "\n",
    "\n",
    "* Create a summary data frame to hold the results\n",
    "\n",
    "\n",
    "* Optional: round the percentage column to two decimal points\n",
    "\n",
    "\n",
    "* Display Age Demographics Table\n"
   ]
  },
  {
   "cell_type": "code",
   "execution_count": 6,
   "metadata": {},
   "outputs": [
    {
     "data": {
      "text/html": [
       "<div>\n",
       "<style scoped>\n",
       "    .dataframe tbody tr th:only-of-type {\n",
       "        vertical-align: middle;\n",
       "    }\n",
       "\n",
       "    .dataframe tbody tr th {\n",
       "        vertical-align: top;\n",
       "    }\n",
       "\n",
       "    .dataframe thead th {\n",
       "        text-align: right;\n",
       "    }\n",
       "</style>\n",
       "<table border=\"1\" class=\"dataframe\">\n",
       "  <thead>\n",
       "    <tr style=\"text-align: right;\">\n",
       "      <th></th>\n",
       "      <th>Total Count</th>\n",
       "      <th>Percentage of Players</th>\n",
       "    </tr>\n",
       "    <tr>\n",
       "      <th>Purchase Data by age</th>\n",
       "      <th></th>\n",
       "      <th></th>\n",
       "    </tr>\n",
       "  </thead>\n",
       "  <tbody>\n",
       "    <tr>\n",
       "      <th>less than 10</th>\n",
       "      <td>17</td>\n",
       "      <td>2.946274</td>\n",
       "    </tr>\n",
       "    <tr>\n",
       "      <th>10 to 14</th>\n",
       "      <td>22</td>\n",
       "      <td>3.812825</td>\n",
       "    </tr>\n",
       "    <tr>\n",
       "      <th>15 to 19</th>\n",
       "      <td>107</td>\n",
       "      <td>18.544194</td>\n",
       "    </tr>\n",
       "    <tr>\n",
       "      <th>20 to 24</th>\n",
       "      <td>258</td>\n",
       "      <td>44.714038</td>\n",
       "    </tr>\n",
       "    <tr>\n",
       "      <th>25 to 29</th>\n",
       "      <td>77</td>\n",
       "      <td>13.344887</td>\n",
       "    </tr>\n",
       "    <tr>\n",
       "      <th>30 to 34</th>\n",
       "      <td>52</td>\n",
       "      <td>9.012132</td>\n",
       "    </tr>\n",
       "    <tr>\n",
       "      <th>35 to 39</th>\n",
       "      <td>31</td>\n",
       "      <td>5.372617</td>\n",
       "    </tr>\n",
       "    <tr>\n",
       "      <th>40+</th>\n",
       "      <td>12</td>\n",
       "      <td>2.079723</td>\n",
       "    </tr>\n",
       "  </tbody>\n",
       "</table>\n",
       "</div>"
      ],
      "text/plain": [
       "                      Total Count  Percentage of Players\n",
       "Purchase Data by age                                    \n",
       "less than 10                   17               2.946274\n",
       "10 to 14                       22               3.812825\n",
       "15 to 19                      107              18.544194\n",
       "20 to 24                      258              44.714038\n",
       "25 to 29                       77              13.344887\n",
       "30 to 34                       52               9.012132\n",
       "35 to 39                       31               5.372617\n",
       "40+                            12               2.079723"
      ]
     },
     "execution_count": 6,
     "metadata": {},
     "output_type": "execute_result"
    }
   ],
   "source": [
    "# Create bins in which to place values based upon TED Talk views\n",
    "bins = [0 , 9, 14, 19, 24, 29, 34, 39, 45]\n",
    "\n",
    "# Create labels for these bins\n",
    "group_labels = [\"less than 10\", \"10 to 14\", \"15 to 19\", \"20 to 24\", \"25 to 29\", \"30 to 34\",\n",
    "                \"35 to 39\", \"40+\"]\n",
    "# Slice the data and place it into bins\n",
    "pd.cut(purchase_data[\"Age\"], bins, labels=group_labels).head()\n",
    "\n",
    "# Place the data series into a new column inside of the DataFrame\n",
    "purchase_data[\"Purchase Data by age\"] = pd.cut(purchase_data[\"Age\"], bins, labels=group_labels)\n",
    "purchase_data.head()\n",
    "\n",
    "\n",
    "Age_Group=(purchase_data).groupby(\"Purchase Data by age\")\n",
    "\n",
    "UniqueTotals=Age_Group[\"SN\"].nunique()\n",
    "Percentage=UniqueTotals/total_playersunique *100\n",
    "\n",
    "Age_demograohics_df=pd.DataFrame({\"Total Count\":UniqueTotals,\"Percentage of Players\":Percentage})\n",
    "#df.sort_values(by='Purchase Data by age', ascending=False).head()\n",
    "\n",
    "Age_demograohics_df\n"
   ]
  },
  {
   "cell_type": "markdown",
   "metadata": {},
   "source": [
    "## Purchasing Analysis (Age)"
   ]
  },
  {
   "cell_type": "markdown",
   "metadata": {},
   "source": [
    "* Bin the purchase_data data frame by age\n",
    "\n",
    "\n",
    "* Run basic calculations to obtain purchase count, avg. purchase price, avg. purchase total per person etc. in the table below\n",
    "\n",
    "\n",
    "* Create a summary data frame to hold the results\n",
    "\n",
    "\n",
    "* Optional: give the displayed data cleaner formatting\n",
    "\n",
    "\n",
    "* Display the summary data frame"
   ]
  },
  {
   "cell_type": "code",
   "execution_count": 7,
   "metadata": {},
   "outputs": [
    {
     "data": {
      "text/html": [
       "<div>\n",
       "<style scoped>\n",
       "    .dataframe tbody tr th:only-of-type {\n",
       "        vertical-align: middle;\n",
       "    }\n",
       "\n",
       "    .dataframe tbody tr th {\n",
       "        vertical-align: top;\n",
       "    }\n",
       "\n",
       "    .dataframe thead th {\n",
       "        text-align: right;\n",
       "    }\n",
       "</style>\n",
       "<table border=\"1\" class=\"dataframe\">\n",
       "  <thead>\n",
       "    <tr style=\"text-align: right;\">\n",
       "      <th></th>\n",
       "      <th>Total Count</th>\n",
       "      <th>Average Purchase Price</th>\n",
       "      <th>Total Purchaase Value</th>\n",
       "      <th>Avg Purchase per Person</th>\n",
       "    </tr>\n",
       "  </thead>\n",
       "  <tbody>\n",
       "    <tr>\n",
       "      <th>less than 10</th>\n",
       "      <td>23</td>\n",
       "      <td>3.353478</td>\n",
       "      <td>77.13</td>\n",
       "      <td>4.537059</td>\n",
       "    </tr>\n",
       "    <tr>\n",
       "      <th>10 to 14</th>\n",
       "      <td>28</td>\n",
       "      <td>2.956429</td>\n",
       "      <td>82.78</td>\n",
       "      <td>3.762727</td>\n",
       "    </tr>\n",
       "    <tr>\n",
       "      <th>15 to 19</th>\n",
       "      <td>136</td>\n",
       "      <td>3.035956</td>\n",
       "      <td>412.89</td>\n",
       "      <td>3.858785</td>\n",
       "    </tr>\n",
       "    <tr>\n",
       "      <th>20 to 24</th>\n",
       "      <td>365</td>\n",
       "      <td>3.052219</td>\n",
       "      <td>1114.06</td>\n",
       "      <td>4.318062</td>\n",
       "    </tr>\n",
       "    <tr>\n",
       "      <th>25 to 29</th>\n",
       "      <td>101</td>\n",
       "      <td>2.900990</td>\n",
       "      <td>293.00</td>\n",
       "      <td>3.805195</td>\n",
       "    </tr>\n",
       "    <tr>\n",
       "      <th>30 to 34</th>\n",
       "      <td>73</td>\n",
       "      <td>2.931507</td>\n",
       "      <td>214.00</td>\n",
       "      <td>4.115385</td>\n",
       "    </tr>\n",
       "    <tr>\n",
       "      <th>35 to 39</th>\n",
       "      <td>41</td>\n",
       "      <td>3.601707</td>\n",
       "      <td>147.67</td>\n",
       "      <td>4.763548</td>\n",
       "    </tr>\n",
       "    <tr>\n",
       "      <th>40+</th>\n",
       "      <td>13</td>\n",
       "      <td>2.941538</td>\n",
       "      <td>38.24</td>\n",
       "      <td>3.186667</td>\n",
       "    </tr>\n",
       "  </tbody>\n",
       "</table>\n",
       "</div>"
      ],
      "text/plain": [
       "              Total Count  Average Purchase Price  Total Purchaase Value  \\\n",
       "less than 10           23                3.353478                  77.13   \n",
       "10 to 14               28                2.956429                  82.78   \n",
       "15 to 19              136                3.035956                 412.89   \n",
       "20 to 24              365                3.052219                1114.06   \n",
       "25 to 29              101                2.900990                 293.00   \n",
       "30 to 34               73                2.931507                 214.00   \n",
       "35 to 39               41                3.601707                 147.67   \n",
       "40+                    13                2.941538                  38.24   \n",
       "\n",
       "              Avg Purchase per Person  \n",
       "less than 10                 4.537059  \n",
       "10 to 14                     3.762727  \n",
       "15 to 19                     3.858785  \n",
       "20 to 24                     4.318062  \n",
       "25 to 29                     3.805195  \n",
       "30 to 34                     4.115385  \n",
       "35 to 39                     4.763548  \n",
       "40+                          3.186667  "
      ]
     },
     "execution_count": 7,
     "metadata": {},
     "output_type": "execute_result"
    }
   ],
   "source": [
    "# Create bins in which to place values based upon TED Talk views\n",
    "bins = [0 , 9, 14, 19, 24, 29, 34, 39, 45]\n",
    "\n",
    "# Create labels for these bins\n",
    "group_labels = [\"less than 10\", \"10 to 14\", \"15 to 19\", \"20 to 24\", \"25 to 29\", \"30 to 34\",\n",
    "                \"35 to 39\", \"40+\"]\n",
    "# Slice the data and place it into bins\n",
    "pd.cut(purchase_data[\"Age\"], bins, labels=group_labels).head()\n",
    "\n",
    "# Place the data series into a new column inside of the DataFrame\n",
    "purchase_data[\"Purchase Data by age\"] = pd.cut(purchase_data[\"Age\"], bins, labels=group_labels)\n",
    "purchase_data.head()\n",
    "\n",
    "Age_Group=(purchase_data).groupby(\"Purchase Data by age\")\n",
    "\n",
    "UniqueTotals=Age_Group[\"SN\"].nunique()\n",
    "\n",
    "Totals=purchase_data[\"Purchase Data by age\"].value_counts()\n",
    "\n",
    "#df.groupby([df.Price])\n",
    "#Average_Purchase_Price=(purchase_data)[\"Price\"].mean()\n",
    "Average_Purchase_Price=Age_Group[\"Price\"].mean()\n",
    "\n",
    "\n",
    "Age_demograohics_df=pd.DataFrame({\"Total Count\":Totals,\"Average Purchase Price\":Average_Purchase_Price, \"Total Purchaase Value\":Totals*Average_Purchase_Price, \"Avg Purchase per Person\":Totals*Average_Purchase_Price/UniqueTotals})\n",
    "\n",
    "Age_demograohics_df\n",
    "\n"
   ]
  },
  {
   "cell_type": "markdown",
   "metadata": {},
   "source": [
    "## Top Spenders"
   ]
  },
  {
   "cell_type": "markdown",
   "metadata": {},
   "source": [
    "## Age Demographics"
   ]
  },
  {
   "cell_type": "markdown",
   "metadata": {},
   "source": [
    "* Run basic calculations to obtain the results in the table below\n",
    "\n",
    "\n",
    "* Create a summary data frame to hold the results\n",
    "\n",
    "\n",
    "* Sort the total purchase value column in descending order\n",
    "\n",
    "\n",
    "* Optional: give the displayed data cleaner formatting\n",
    "\n",
    "\n",
    "* Display a preview of the summary data frame\n",
    "\n"
   ]
  },
  {
   "cell_type": "code",
   "execution_count": 8,
   "metadata": {},
   "outputs": [
    {
     "data": {
      "text/html": [
       "<div>\n",
       "<style scoped>\n",
       "    .dataframe tbody tr th:only-of-type {\n",
       "        vertical-align: middle;\n",
       "    }\n",
       "\n",
       "    .dataframe tbody tr th {\n",
       "        vertical-align: top;\n",
       "    }\n",
       "\n",
       "    .dataframe thead th {\n",
       "        text-align: right;\n",
       "    }\n",
       "</style>\n",
       "<table border=\"1\" class=\"dataframe\">\n",
       "  <thead>\n",
       "    <tr style=\"text-align: right;\">\n",
       "      <th></th>\n",
       "      <th>Purchase Count by Player</th>\n",
       "      <th>Average Purchase Price</th>\n",
       "      <th>Total Purchase Value</th>\n",
       "    </tr>\n",
       "    <tr>\n",
       "      <th>SN</th>\n",
       "      <th></th>\n",
       "      <th></th>\n",
       "      <th></th>\n",
       "    </tr>\n",
       "  </thead>\n",
       "  <tbody>\n",
       "    <tr>\n",
       "      <th>Lisosia93</th>\n",
       "      <td>5</td>\n",
       "      <td>3.792000</td>\n",
       "      <td>18.96</td>\n",
       "    </tr>\n",
       "    <tr>\n",
       "      <th>Idastidru52</th>\n",
       "      <td>4</td>\n",
       "      <td>3.862500</td>\n",
       "      <td>15.45</td>\n",
       "    </tr>\n",
       "    <tr>\n",
       "      <th>Chamjask73</th>\n",
       "      <td>3</td>\n",
       "      <td>4.610000</td>\n",
       "      <td>13.83</td>\n",
       "    </tr>\n",
       "    <tr>\n",
       "      <th>Iral74</th>\n",
       "      <td>4</td>\n",
       "      <td>3.405000</td>\n",
       "      <td>13.62</td>\n",
       "    </tr>\n",
       "    <tr>\n",
       "      <th>Iskadarya95</th>\n",
       "      <td>3</td>\n",
       "      <td>4.366667</td>\n",
       "      <td>13.10</td>\n",
       "    </tr>\n",
       "  </tbody>\n",
       "</table>\n",
       "</div>"
      ],
      "text/plain": [
       "             Purchase Count by Player  Average Purchase Price  \\\n",
       "SN                                                              \n",
       "Lisosia93                           5                3.792000   \n",
       "Idastidru52                         4                3.862500   \n",
       "Chamjask73                          3                4.610000   \n",
       "Iral74                              4                3.405000   \n",
       "Iskadarya95                         3                4.366667   \n",
       "\n",
       "             Total Purchase Value  \n",
       "SN                                 \n",
       "Lisosia93                   18.96  \n",
       "Idastidru52                 15.45  \n",
       "Chamjask73                  13.83  \n",
       "Iral74                      13.62  \n",
       "Iskadarya95                 13.10  "
      ]
     },
     "execution_count": 8,
     "metadata": {},
     "output_type": "execute_result"
    }
   ],
   "source": [
    "Players_Group=(purchase_data).groupby(\"SN\")\n",
    "\n",
    "\n",
    "df=pd.DataFrame({\"Purchase Count by Player\":Players_Group[\"SN\"].count(),\"Average Purchase Price\":Players_Group[\"Price\"].sum()/Players_Group[\"SN\"].count(), \"Total Purchase Value\":Players_Group[\"Price\"].sum()})\n",
    "\n",
    "df.sort_values(by=[\"Total Purchase Value\"], ascending=False).head()\n"
   ]
  },
  {
   "cell_type": "raw",
   "metadata": {},
   "source": [
    "## Most Popular Items"
   ]
  },
  {
   "cell_type": "markdown",
   "metadata": {},
   "source": [
    "* Retrieve the Item ID, Item Name, and Item Price columns\n",
    "\n",
    "\n",
    "* Group by Item ID and Item Name. Perform calculations to obtain purchase count, average item price, and total purchase value\n",
    "\n",
    "\n",
    "* Create a summary data frame to hold the results\n",
    "\n",
    "\n",
    "* Sort the purchase count column in descending order\n",
    "\n",
    "\n",
    "* Optional: give the displayed data cleaner formatting\n",
    "\n",
    "\n",
    "* Display a preview of the summary data frame\n",
    "\n"
   ]
  },
  {
   "cell_type": "code",
   "execution_count": 15,
   "metadata": {},
   "outputs": [
    {
     "data": {
      "text/html": [
       "<div>\n",
       "<style scoped>\n",
       "    .dataframe tbody tr th:only-of-type {\n",
       "        vertical-align: middle;\n",
       "    }\n",
       "\n",
       "    .dataframe tbody tr th {\n",
       "        vertical-align: top;\n",
       "    }\n",
       "\n",
       "    .dataframe thead th {\n",
       "        text-align: right;\n",
       "    }\n",
       "</style>\n",
       "<table border=\"1\" class=\"dataframe\">\n",
       "  <thead>\n",
       "    <tr style=\"text-align: right;\">\n",
       "      <th></th>\n",
       "      <th>Item name</th>\n",
       "      <th>Purchase Count</th>\n",
       "      <th>Item Price</th>\n",
       "      <th>Total Purchase Value</th>\n",
       "    </tr>\n",
       "    <tr>\n",
       "      <th>Item ID</th>\n",
       "      <th></th>\n",
       "      <th></th>\n",
       "      <th></th>\n",
       "      <th></th>\n",
       "    </tr>\n",
       "  </thead>\n",
       "  <tbody>\n",
       "    <tr>\n",
       "      <th>92.0</th>\n",
       "      <td>(92.0, [Final Critic, Final Critic, Final Crit...</td>\n",
       "      <td>13</td>\n",
       "      <td>4.614615</td>\n",
       "      <td>59.99</td>\n",
       "    </tr>\n",
       "    <tr>\n",
       "      <th>178.0</th>\n",
       "      <td>(178.0, [Oathbreaker, Last Hope of the Breakin...</td>\n",
       "      <td>12</td>\n",
       "      <td>4.230000</td>\n",
       "      <td>50.76</td>\n",
       "    </tr>\n",
       "    <tr>\n",
       "      <th>145.0</th>\n",
       "      <td>(145.0, [Fiery Glass Crusader, Fiery Glass Cru...</td>\n",
       "      <td>9</td>\n",
       "      <td>4.580000</td>\n",
       "      <td>41.22</td>\n",
       "    </tr>\n",
       "    <tr>\n",
       "      <th>132.0</th>\n",
       "      <td>(132.0, [Persuasion, Persuasion, Persuasion, P...</td>\n",
       "      <td>9</td>\n",
       "      <td>3.221111</td>\n",
       "      <td>28.99</td>\n",
       "    </tr>\n",
       "    <tr>\n",
       "      <th>108.0</th>\n",
       "      <td>(108.0, [Extraction, Quickblade Of Trembling H...</td>\n",
       "      <td>9</td>\n",
       "      <td>3.530000</td>\n",
       "      <td>31.77</td>\n",
       "    </tr>\n",
       "  </tbody>\n",
       "</table>\n",
       "</div>"
      ],
      "text/plain": [
       "                                                 Item name  Purchase Count  \\\n",
       "Item ID                                                                      \n",
       "92.0     (92.0, [Final Critic, Final Critic, Final Crit...              13   \n",
       "178.0    (178.0, [Oathbreaker, Last Hope of the Breakin...              12   \n",
       "145.0    (145.0, [Fiery Glass Crusader, Fiery Glass Cru...               9   \n",
       "132.0    (132.0, [Persuasion, Persuasion, Persuasion, P...               9   \n",
       "108.0    (108.0, [Extraction, Quickblade Of Trembling H...               9   \n",
       "\n",
       "         Item Price  Total Purchase Value  \n",
       "Item ID                                    \n",
       "92.0       4.614615                 59.99  \n",
       "178.0      4.230000                 50.76  \n",
       "145.0      4.580000                 41.22  \n",
       "132.0      3.221111                 28.99  \n",
       "108.0      3.530000                 31.77  "
      ]
     },
     "execution_count": 15,
     "metadata": {},
     "output_type": "execute_result"
    }
   ],
   "source": [
    "Item_Group=(purchase_data).groupby(\"Item ID\")\n",
    "\n",
    "df=pd.DataFrame({\"Item name\":Item_Group[\"Item Name\"],\"Purchase Count\":Item_Group[\"Item ID\"].count(),\"Item Price\":Item_Group[\"Price\"].sum()/Item_Group[\"SN\"].nunique(), \"Total Purchase Value\":Item_Group[\"Price\"].sum()})\n",
    "df.sort_values(by='Purchase Count', ascending=False).head()\n",
    "\n",
    "#print(df)\n"
   ]
  },
  {
   "cell_type": "markdown",
   "metadata": {},
   "source": [
    "## Most Profitable Items"
   ]
  },
  {
   "cell_type": "markdown",
   "metadata": {},
   "source": [
    "* Sort the above table by total purchase value in descending order\n",
    "\n",
    "\n",
    "* Optional: give the displayed data cleaner formatting\n",
    "\n",
    "\n",
    "* Display a preview of the data frame\n",
    "\n"
   ]
  },
  {
   "cell_type": "code",
   "execution_count": 10,
   "metadata": {
    "scrolled": true
   },
   "outputs": [
    {
     "data": {
      "text/html": [
       "<div>\n",
       "<style scoped>\n",
       "    .dataframe tbody tr th:only-of-type {\n",
       "        vertical-align: middle;\n",
       "    }\n",
       "\n",
       "    .dataframe tbody tr th {\n",
       "        vertical-align: top;\n",
       "    }\n",
       "\n",
       "    .dataframe thead th {\n",
       "        text-align: right;\n",
       "    }\n",
       "</style>\n",
       "<table border=\"1\" class=\"dataframe\">\n",
       "  <thead>\n",
       "    <tr style=\"text-align: right;\">\n",
       "      <th></th>\n",
       "      <th>Item name</th>\n",
       "      <th>Purchase Count</th>\n",
       "      <th>Item Price</th>\n",
       "      <th>Total Purchase Value</th>\n",
       "    </tr>\n",
       "    <tr>\n",
       "      <th>Item ID</th>\n",
       "      <th></th>\n",
       "      <th></th>\n",
       "      <th></th>\n",
       "      <th></th>\n",
       "    </tr>\n",
       "  </thead>\n",
       "  <tbody>\n",
       "    <tr>\n",
       "      <th>92.0</th>\n",
       "      <td>(92.0, [Final Critic, Final Critic, Final Crit...</td>\n",
       "      <td>13</td>\n",
       "      <td>4.614615</td>\n",
       "      <td>59.99</td>\n",
       "    </tr>\n",
       "    <tr>\n",
       "      <th>178.0</th>\n",
       "      <td>(178.0, [Oathbreaker, Last Hope of the Breakin...</td>\n",
       "      <td>12</td>\n",
       "      <td>4.230000</td>\n",
       "      <td>50.76</td>\n",
       "    </tr>\n",
       "    <tr>\n",
       "      <th>145.0</th>\n",
       "      <td>(145.0, [Fiery Glass Crusader, Fiery Glass Cru...</td>\n",
       "      <td>9</td>\n",
       "      <td>4.580000</td>\n",
       "      <td>41.22</td>\n",
       "    </tr>\n",
       "    <tr>\n",
       "      <th>132.0</th>\n",
       "      <td>(132.0, [Persuasion, Persuasion, Persuasion, P...</td>\n",
       "      <td>9</td>\n",
       "      <td>3.221111</td>\n",
       "      <td>28.99</td>\n",
       "    </tr>\n",
       "    <tr>\n",
       "      <th>108.0</th>\n",
       "      <td>(108.0, [Extraction, Quickblade Of Trembling H...</td>\n",
       "      <td>9</td>\n",
       "      <td>3.530000</td>\n",
       "      <td>31.77</td>\n",
       "    </tr>\n",
       "  </tbody>\n",
       "</table>\n",
       "</div>"
      ],
      "text/plain": [
       "                                                 Item name  Purchase Count  \\\n",
       "Item ID                                                                      \n",
       "92.0     (92.0, [Final Critic, Final Critic, Final Crit...              13   \n",
       "178.0    (178.0, [Oathbreaker, Last Hope of the Breakin...              12   \n",
       "145.0    (145.0, [Fiery Glass Crusader, Fiery Glass Cru...               9   \n",
       "132.0    (132.0, [Persuasion, Persuasion, Persuasion, P...               9   \n",
       "108.0    (108.0, [Extraction, Quickblade Of Trembling H...               9   \n",
       "\n",
       "         Item Price  Total Purchase Value  \n",
       "Item ID                                    \n",
       "92.0       4.614615                 59.99  \n",
       "178.0      4.230000                 50.76  \n",
       "145.0      4.580000                 41.22  \n",
       "132.0      3.221111                 28.99  \n",
       "108.0      3.530000                 31.77  "
      ]
     },
     "execution_count": 10,
     "metadata": {},
     "output_type": "execute_result"
    }
   ],
   "source": [
    "Item_Group=(purchase_data).groupby(\"Item ID\")\n",
    "\n",
    "pd.DataFrame({\"Item Name\":Item_Group[\"Item Name\"],\"Purchase Count\":Item_Group[\"Item ID\"].count(),\"Item Price\":Item_Group[\"Price\"].sum()/Item_Group[\"SN\"].nunique(), \"Total Purchase Value\":Item_Group[\"Price\"].sum()})\n",
    "\n",
    "df.sort_values(by='Purchase Count', ascending=False).head()\n"
   ]
  },
  {
   "cell_type": "code",
   "execution_count": null,
   "metadata": {},
   "outputs": [],
   "source": []
  }
 ],
 "metadata": {
  "anaconda-cloud": {},
  "kernel_info": {
   "name": "python3"
  },
  "kernelspec": {
   "display_name": "Python 3 (ipykernel)",
   "language": "python",
   "name": "python3"
  },
  "language_info": {
   "codemirror_mode": {
    "name": "ipython",
    "version": 3
   },
   "file_extension": ".py",
   "mimetype": "text/x-python",
   "name": "python",
   "nbconvert_exporter": "python",
   "pygments_lexer": "ipython3",
   "version": "3.9.7"
  },
  "latex_envs": {
   "LaTeX_envs_menu_present": true,
   "autoclose": false,
   "autocomplete": true,
   "bibliofile": "biblio.bib",
   "cite_by": "apalike",
   "current_citInitial": 1,
   "eqLabelWithNumbers": true,
   "eqNumInitial": 1,
   "hotkeys": {
    "equation": "Ctrl-E",
    "itemize": "Ctrl-I"
   },
   "labels_anchors": false,
   "latex_user_defs": false,
   "report_style_numbering": false,
   "user_envs_cfg": false
  },
  "nteract": {
   "version": "0.2.0"
  }
 },
 "nbformat": 4,
 "nbformat_minor": 2
}
